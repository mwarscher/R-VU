{
 "cells": [
  {
   "cell_type": "markdown",
   "metadata": {},
   "source": [
    "# ---------- Kurzeinführung in die Datenanlyse mit R ----------"
   ]
  },
  {
   "cell_type": "markdown",
   "metadata": {},
   "source": [
    "Dies ist eine kurze Einführung in R für (Noch-)Nichtprogrammierer zum Einlesen, Analysieren und Darstellen tabellarischer Daten.\n",
    "\n",
    "Neben der hier dargestellten Funktionalität könnt Ihr sehr einfach weitere Informationen zum Arbeiten mit R im Internet finden, z.B. durch Verwendung der Google Suchfunktion und den Ergebnissen auf der Seite stackoverflow.com - einfach mal ausprobieren.\n",
    "\n",
    "In den Beispielen hier wird ein \"Notebook\" durch Hinzufügen von Zeilen erweitert, deren Typ als \"Code\" oder \"Markdown\" defineirt werden sollte (siehe Drop Down Menü oben).\n",
    "\n",
    "Ausgeführt werden die Zellen über \"Cell\" --> \"Run Cells\" oder \"Run All\" bzw. für eine Zeile mit \"Enter + Str\"!"
   ]
  },
  {
   "cell_type": "markdown",
   "metadata": {},
   "source": [
    "## Einbinden von Bibliotheken (Libraries)"
   ]
  },
  {
   "cell_type": "markdown",
   "metadata": {},
   "source": [
    "Während viele Befehle zur Standardfunktion von R gehören, erfordern einige Operation Zusatzfunktionalität, welche in Form von Bibliotheken eingebunden werden kann. Hierzu muss der Befehl \"library()\" in Zusammenhang mit dem Namen der einzubindenden Biblithek eingeben werden.\n",
    "\n",
    "(Das hier unten eine Warnung ausgegeben wird ist nicht weiter schlimm, es gibt nun mehrere Funktionen in zwei Versionen, uns stört das hier nicht :-))"
   ]
  },
  {
   "cell_type": "code",
   "execution_count": 424,
   "metadata": {},
   "outputs": [],
   "source": [
    "library(lubridate)"
   ]
  },
  {
   "cell_type": "markdown",
   "metadata": {},
   "source": [
    "Will man wissen, welche Bibliotheken gerade geladen sind, kann man das mit \"search()\" herausfinden! Die generell installierten, aber evtl. nicht geladenen Bibliotheken findet man über \"library()\"."
   ]
  },
  {
   "cell_type": "code",
   "execution_count": 425,
   "metadata": {},
   "outputs": [
    {
     "data": {
      "text/html": [
       "<ol class=list-inline>\n",
       "\t<li>'.GlobalEnv'</li>\n",
       "\t<li>'package:bindrcpp'</li>\n",
       "\t<li>'package:ggplot2'</li>\n",
       "\t<li>'package:dplyr'</li>\n",
       "\t<li>'package:lubridate'</li>\n",
       "\t<li>'jupyter:irkernel'</li>\n",
       "\t<li>'package:stats'</li>\n",
       "\t<li>'package:graphics'</li>\n",
       "\t<li>'package:grDevices'</li>\n",
       "\t<li>'package:utils'</li>\n",
       "\t<li>'package:datasets'</li>\n",
       "\t<li>'package:methods'</li>\n",
       "\t<li>'Autoloads'</li>\n",
       "\t<li>'package:base'</li>\n",
       "</ol>\n"
      ],
      "text/latex": [
       "\\begin{enumerate*}\n",
       "\\item '.GlobalEnv'\n",
       "\\item 'package:bindrcpp'\n",
       "\\item 'package:ggplot2'\n",
       "\\item 'package:dplyr'\n",
       "\\item 'package:lubridate'\n",
       "\\item 'jupyter:irkernel'\n",
       "\\item 'package:stats'\n",
       "\\item 'package:graphics'\n",
       "\\item 'package:grDevices'\n",
       "\\item 'package:utils'\n",
       "\\item 'package:datasets'\n",
       "\\item 'package:methods'\n",
       "\\item 'Autoloads'\n",
       "\\item 'package:base'\n",
       "\\end{enumerate*}\n"
      ],
      "text/markdown": [
       "1. '.GlobalEnv'\n",
       "2. 'package:bindrcpp'\n",
       "3. 'package:ggplot2'\n",
       "4. 'package:dplyr'\n",
       "5. 'package:lubridate'\n",
       "6. 'jupyter:irkernel'\n",
       "7. 'package:stats'\n",
       "8. 'package:graphics'\n",
       "9. 'package:grDevices'\n",
       "10. 'package:utils'\n",
       "11. 'package:datasets'\n",
       "12. 'package:methods'\n",
       "13. 'Autoloads'\n",
       "14. 'package:base'\n",
       "\n",
       "\n"
      ],
      "text/plain": [
       " [1] \".GlobalEnv\"        \"package:bindrcpp\"  \"package:ggplot2\"  \n",
       " [4] \"package:dplyr\"     \"package:lubridate\" \"jupyter:irkernel\" \n",
       " [7] \"package:stats\"     \"package:graphics\"  \"package:grDevices\"\n",
       "[10] \"package:utils\"     \"package:datasets\"  \"package:methods\"  \n",
       "[13] \"Autoloads\"         \"package:base\"     "
      ]
     },
     "metadata": {},
     "output_type": "display_data"
    }
   ],
   "source": [
    "search()"
   ]
  },
  {
   "cell_type": "markdown",
   "metadata": {},
   "source": [
    "## Grundlegendes"
   ]
  },
  {
   "cell_type": "markdown",
   "metadata": {},
   "source": [
    "In R arbeitet man oft mit vordefinierten Funktionen die in Bibliotheken definiert sind. Will ich Hilfe zu einer solchen Funktion, hilft Aufruf von \"help(Funktionsname)\". Wir testen das anhand der Mittelwertsfunktion \"mean()\":"
   ]
  },
  {
   "cell_type": "code",
   "execution_count": 426,
   "metadata": {},
   "outputs": [],
   "source": [
    "help(mean)"
   ]
  },
  {
   "cell_type": "markdown",
   "metadata": {},
   "source": [
    "In der Programmierung arbeitet man mit \"Variablen\" die durch \"Operationen\" miteinander verarbeitet werden. So kann man einer frei zu definierenden Variablen einen Wert zuweisen und diese Variable dann mit einer anderen verrechnen."
   ]
  },
  {
   "cell_type": "code",
   "execution_count": 427,
   "metadata": {},
   "outputs": [],
   "source": [
    "apples = 11\n",
    "oranges = 4\n",
    "fruits = apples + oranges"
   ]
  },
  {
   "cell_type": "markdown",
   "metadata": {},
   "source": [
    "Schreiben wir den Namen der Variablen aus und führen die Zeile aus wird der Wert der Variable ausgegeben."
   ]
  },
  {
   "cell_type": "code",
   "execution_count": 428,
   "metadata": {},
   "outputs": [
    {
     "data": {
      "text/html": [
       "15"
      ],
      "text/latex": [
       "15"
      ],
      "text/markdown": [
       "15"
      ],
      "text/plain": [
       "[1] 15"
      ]
     },
     "metadata": {},
     "output_type": "display_data"
    }
   ],
   "source": [
    "fruits"
   ]
  },
  {
   "cell_type": "markdown",
   "metadata": {},
   "source": [
    "Wir können uns die Art einer Variable durch \"class()\" anzeigen lassen. In diesem Fall ist es eine Variable der Klasse \"numeric\", also eine Zahl."
   ]
  },
  {
   "cell_type": "code",
   "execution_count": 429,
   "metadata": {},
   "outputs": [
    {
     "data": {
      "text/html": [
       "'numeric'"
      ],
      "text/latex": [
       "'numeric'"
      ],
      "text/markdown": [
       "'numeric'"
      ],
      "text/plain": [
       "[1] \"numeric\""
      ]
     },
     "metadata": {},
     "output_type": "display_data"
    }
   ],
   "source": [
    "class(fruits)"
   ]
  },
  {
   "cell_type": "markdown",
   "metadata": {},
   "source": [
    "Oft ist es parktisch sich sein Working Directory anzeigen zu lassen, z.B. wenn man eine Datei mit dem Namen aber ohne Pfad angibt, diese wird dann nämlich nur dort gesucht. Einfach geht das mit dem Aufruf von \"getwd()\""
   ]
  },
  {
   "cell_type": "code",
   "execution_count": 430,
   "metadata": {},
   "outputs": [
    {
     "data": {
      "text/html": [
       "'/home/jovyan'"
      ],
      "text/latex": [
       "'/home/jovyan'"
      ],
      "text/markdown": [
       "'/home/jovyan'"
      ],
      "text/plain": [
       "[1] \"/home/jovyan\""
      ]
     },
     "metadata": {},
     "output_type": "display_data"
    }
   ],
   "source": [
    "getwd()"
   ]
  },
  {
   "cell_type": "markdown",
   "metadata": {},
   "source": [
    "## Einlesen von Daten"
   ]
  },
  {
   "cell_type": "markdown",
   "metadata": {},
   "source": [
    "Das Einlesen tabellarischer Daten in R ist sehr einfach. Durch die Funktion \"read.table\" können tabellarische Daten in unterschiedlichen Formaten eingelesen werden. Man gibt hierfür den Namen in \"\", das Trennungszeichen \"sep=\" sowie die Information darüber, ob ein Header (eine vorangehende Nichtdatenzeile mit Spaltennamen) existiert an. Weiter kann ich angeben, welches Dezimaltrennzeichen in meinen Daten verwendet wird (dec = \".\"). Mit dem Argument \"skip=\" könnte man noch angeben, dass eine bestimmte Anzahl an Zeilen übersprungen werden soll, z.B. wenn in den ersten Zeilen unnötige Zusatzinformation enthalten ist - in unserem Testfall ist da nur ein Header, den wir nicht überspringen wollen.\n",
    "\n",
    "Die Datei selbst sollte man zuvor über \"File-->Open\" und \"Upload\" hochladen.\n",
    "\n",
    "Tipp: Schaut Euch die tabellarischen Daten zunächst im Texteditor Eurer Wahl (Windows: Notepad, Mac: TextEdit, ...) an. So seht Ihr wie die Daten eigentlich aussehen (Spalten, Header, Trennzeichen, etc.)!"
   ]
  },
  {
   "cell_type": "code",
   "execution_count": 431,
   "metadata": {},
   "outputs": [],
   "source": [
    "mydata <- read.table(\"TestData.txt\",sep=\",\",dec = \".\",header=TRUE)"
   ]
  },
  {
   "cell_type": "markdown",
   "metadata": {},
   "source": [
    "## Datenstruktur"
   ]
  },
  {
   "cell_type": "markdown",
   "metadata": {},
   "source": [
    "Die eingelesenen Daten befinden sich nun im Speicher des Rechners als Werte der Variaben \"mydata\" und wir können uns diese Daten einmal ansehen. Der Befehl names(maydata) zeigt uns alle Spaltennamen an!"
   ]
  },
  {
   "cell_type": "code",
   "execution_count": 432,
   "metadata": {},
   "outputs": [
    {
     "data": {
      "text/html": [
       "<ol class=list-inline>\n",
       "\t<li>'date'</li>\n",
       "\t<li>'minTemp'</li>\n",
       "\t<li>'maxTemp'</li>\n",
       "\t<li>'precip'</li>\n",
       "</ol>\n"
      ],
      "text/latex": [
       "\\begin{enumerate*}\n",
       "\\item 'date'\n",
       "\\item 'minTemp'\n",
       "\\item 'maxTemp'\n",
       "\\item 'precip'\n",
       "\\end{enumerate*}\n"
      ],
      "text/markdown": [
       "1. 'date'\n",
       "2. 'minTemp'\n",
       "3. 'maxTemp'\n",
       "4. 'precip'\n",
       "\n",
       "\n"
      ],
      "text/plain": [
       "[1] \"date\"    \"minTemp\" \"maxTemp\" \"precip\" "
      ]
     },
     "metadata": {},
     "output_type": "display_data"
    }
   ],
   "source": [
    "names(mydata)"
   ]
  },
  {
   "cell_type": "markdown",
   "metadata": {},
   "source": [
    "Die Klasse der Variablen \"mydata\" wird als \"data.frame\" angezeigt - dieser ist sehr ähnlich einer Excel Tabelle mit unterschiedlichen Zeilen und Spalten. Neben den Dataframes gibt es viele andere Formate (z.B. das xts Format) die alle Ihre Vorteile und evtl. leicht andere Befehlssyntax haben - das aber nur am Rande."
   ]
  },
  {
   "cell_type": "code",
   "execution_count": 433,
   "metadata": {},
   "outputs": [
    {
     "data": {
      "text/html": [
       "'data.frame'"
      ],
      "text/latex": [
       "'data.frame'"
      ],
      "text/markdown": [
       "'data.frame'"
      ],
      "text/plain": [
       "[1] \"data.frame\""
      ]
     },
     "metadata": {},
     "output_type": "display_data"
    }
   ],
   "source": [
    "class(mydata)"
   ]
  },
  {
   "cell_type": "markdown",
   "metadata": {},
   "source": [
    "Den gesamten Inhalt der Daten kann ich mir leicht ansehen, wenn ich alle Daten der Variable\n",
    "einfach mal ausdrucke. Das mache ich indem ich die Variable ohne weiteren Befehl ausführe."
   ]
  },
  {
   "cell_type": "code",
   "execution_count": 434,
   "metadata": {},
   "outputs": [
    {
     "data": {
      "text/html": [
       "<table>\n",
       "<thead><tr><th scope=col>date</th><th scope=col>minTemp</th><th scope=col>maxTemp</th><th scope=col>precip</th></tr></thead>\n",
       "<tbody>\n",
       "\t<tr><td>1948-01-01</td><td>265.95    </td><td>270.85    </td><td> NaN      </td></tr>\n",
       "\t<tr><td>1948-01-02</td><td>269.05    </td><td>276.95    </td><td>22.0      </td></tr>\n",
       "\t<tr><td>1948-01-03</td><td>274.45    </td><td>277.95    </td><td>12.9      </td></tr>\n",
       "\t<tr><td>1948-01-04</td><td>271.25    </td><td>276.95    </td><td> 0.0      </td></tr>\n",
       "\t<tr><td>1948-01-05</td><td>271.05    </td><td>279.95    </td><td> 0.9      </td></tr>\n",
       "\t<tr><td>1948-01-06</td><td>271.85    </td><td>276.95    </td><td> 0.0      </td></tr>\n",
       "\t<tr><td>1948-01-07</td><td>271.85    </td><td>277.95    </td><td> 0.2      </td></tr>\n",
       "\t<tr><td>1948-01-08</td><td>271.25    </td><td>277.95    </td><td> 2.4      </td></tr>\n",
       "\t<tr><td>1948-01-09</td><td>267.85    </td><td>272.85    </td><td> 0.0      </td></tr>\n",
       "\t<tr><td>1948-01-10</td><td>267.85    </td><td>281.05    </td><td> 0.0      </td></tr>\n",
       "\t<tr><td>1948-01-11</td><td>271.25    </td><td>276.95    </td><td> 0.0      </td></tr>\n",
       "\t<tr><td>1948-01-12</td><td>273.35    </td><td>277.95    </td><td> 0.4      </td></tr>\n",
       "\t<tr><td>1948-01-13</td><td>273.35    </td><td>279.95    </td><td> 0.0      </td></tr>\n",
       "\t<tr><td>1948-01-14</td><td>275.45    </td><td>282.05    </td><td> 2.2      </td></tr>\n",
       "\t<tr><td>1948-01-15</td><td>272.25    </td><td>278.95    </td><td>26.2      </td></tr>\n",
       "\t<tr><td>1948-01-16</td><td>270.15    </td><td>273.85    </td><td> 0.8      </td></tr>\n",
       "\t<tr><td>1948-01-17</td><td>267.05    </td><td>272.85    </td><td> 0.0      </td></tr>\n",
       "\t<tr><td>1948-01-18</td><td>265.45    </td><td>272.85    </td><td> 7.5      </td></tr>\n",
       "\t<tr><td>1948-01-19</td><td>269.15    </td><td>273.85    </td><td> 3.1      </td></tr>\n",
       "\t<tr><td>1948-01-20</td><td>264.95    </td><td>270.25    </td><td>11.1      </td></tr>\n",
       "\t<tr><td>1948-01-21</td><td>265.95    </td><td>272.85    </td><td> 0.0      </td></tr>\n",
       "\t<tr><td>1948-01-22</td><td>261.55    </td><td>269.85    </td><td> 0.0      </td></tr>\n",
       "\t<tr><td>1948-01-23</td><td>262.85    </td><td>269.85    </td><td> 0.0      </td></tr>\n",
       "\t<tr><td>1948-01-24</td><td>268.05    </td><td>281.05    </td><td> 0.0      </td></tr>\n",
       "\t<tr><td>1948-01-25</td><td>273.35    </td><td>282.05    </td><td> 0.0      </td></tr>\n",
       "\t<tr><td>1948-01-26</td><td>270.15    </td><td>283.05    </td><td> 0.0      </td></tr>\n",
       "\t<tr><td>1948-01-27</td><td>274.45    </td><td>287.05    </td><td> 8.1      </td></tr>\n",
       "\t<tr><td>1948-01-28</td><td>274.45    </td><td>287.05    </td><td> 8.9      </td></tr>\n",
       "\t<tr><td>1948-01-29</td><td>270.15    </td><td>279.95    </td><td> 1.1      </td></tr>\n",
       "\t<tr><td>1948-01-30</td><td>274.25    </td><td>281.05    </td><td> 0.0      </td></tr>\n",
       "\t<tr><td>⋮</td><td>⋮</td><td>⋮</td><td>⋮</td></tr>\n",
       "\t<tr><td>2009-12-02</td><td>273.05    </td><td>276.05    </td><td> 0.0      </td></tr>\n",
       "\t<tr><td>2009-12-03</td><td>270.55    </td><td>275.25    </td><td> 0.2      </td></tr>\n",
       "\t<tr><td>2009-12-04</td><td>271.45    </td><td>273.75    </td><td>10.5      </td></tr>\n",
       "\t<tr><td>2009-12-05</td><td>271.75    </td><td>275.75    </td><td> 0.0      </td></tr>\n",
       "\t<tr><td>2009-12-06</td><td>269.15    </td><td>275.15    </td><td> 0.0      </td></tr>\n",
       "\t<tr><td>2009-12-07</td><td>274.35    </td><td>278.25    </td><td> 0.0      </td></tr>\n",
       "\t<tr><td>2009-12-08</td><td>275.15    </td><td>276.85    </td><td>16.8      </td></tr>\n",
       "\t<tr><td>2009-12-09</td><td>272.55    </td><td>275.55    </td><td> 0.0      </td></tr>\n",
       "\t<tr><td>2009-12-10</td><td>270.15    </td><td>276.15    </td><td> 3.6      </td></tr>\n",
       "\t<tr><td>2009-12-11</td><td>273.65    </td><td>276.85    </td><td> 3.9      </td></tr>\n",
       "\t<tr><td>2009-12-12</td><td>273.05    </td><td>275.15    </td><td> 1.1      </td></tr>\n",
       "\t<tr><td>2009-12-13</td><td>270.85    </td><td>273.15    </td><td> 0.0      </td></tr>\n",
       "\t<tr><td>2009-12-14</td><td>265.75    </td><td>270.85    </td><td> 0.0      </td></tr>\n",
       "\t<tr><td>2009-12-15</td><td>264.65    </td><td>268.45    </td><td> 0.0      </td></tr>\n",
       "\t<tr><td>2009-12-16</td><td>265.55    </td><td>268.55    </td><td> 0.0      </td></tr>\n",
       "\t<tr><td>2009-12-17</td><td>263.25    </td><td>268.75    </td><td> 0.0      </td></tr>\n",
       "\t<tr><td>2009-12-18</td><td>262.35    </td><td>266.25    </td><td> 0.0      </td></tr>\n",
       "\t<tr><td>2009-12-19</td><td>261.25    </td><td>266.95    </td><td> 0.4      </td></tr>\n",
       "\t<tr><td>2009-12-20</td><td>258.95    </td><td>264.75    </td><td> 0.0      </td></tr>\n",
       "\t<tr><td>2009-12-21</td><td>262.85    </td><td>279.15    </td><td> 0.0      </td></tr>\n",
       "\t<tr><td>2009-12-22</td><td>277.15    </td><td>286.25    </td><td> 2.8      </td></tr>\n",
       "\t<tr><td>2009-12-23</td><td>275.95    </td><td>285.55    </td><td> 2.5      </td></tr>\n",
       "\t<tr><td>2009-12-24</td><td>274.05    </td><td>288.55    </td><td> 0.7      </td></tr>\n",
       "\t<tr><td>2009-12-25</td><td>273.55    </td><td>287.05    </td><td>20.1      </td></tr>\n",
       "\t<tr><td>2009-12-26</td><td>269.05    </td><td>274.05    </td><td> 0.0      </td></tr>\n",
       "\t<tr><td>2009-12-27</td><td>267.45    </td><td>273.25    </td><td> 0.0      </td></tr>\n",
       "\t<tr><td>2009-12-28</td><td>268.25    </td><td>273.55    </td><td> 0.0      </td></tr>\n",
       "\t<tr><td>2009-12-29</td><td>268.85    </td><td>274.85    </td><td> 0.0      </td></tr>\n",
       "\t<tr><td>2009-12-30</td><td>271.45    </td><td>276.65    </td><td> 0.8      </td></tr>\n",
       "\t<tr><td>2009-12-31</td><td>272.35    </td><td>276.85    </td><td> 0.7      </td></tr>\n",
       "</tbody>\n",
       "</table>\n"
      ],
      "text/latex": [
       "\\begin{tabular}{r|llll}\n",
       " date & minTemp & maxTemp & precip\\\\\n",
       "\\hline\n",
       "\t 1948-01-01 & 265.95     & 270.85     &  NaN      \\\\\n",
       "\t 1948-01-02 & 269.05     & 276.95     & 22.0      \\\\\n",
       "\t 1948-01-03 & 274.45     & 277.95     & 12.9      \\\\\n",
       "\t 1948-01-04 & 271.25     & 276.95     &  0.0      \\\\\n",
       "\t 1948-01-05 & 271.05     & 279.95     &  0.9      \\\\\n",
       "\t 1948-01-06 & 271.85     & 276.95     &  0.0      \\\\\n",
       "\t 1948-01-07 & 271.85     & 277.95     &  0.2      \\\\\n",
       "\t 1948-01-08 & 271.25     & 277.95     &  2.4      \\\\\n",
       "\t 1948-01-09 & 267.85     & 272.85     &  0.0      \\\\\n",
       "\t 1948-01-10 & 267.85     & 281.05     &  0.0      \\\\\n",
       "\t 1948-01-11 & 271.25     & 276.95     &  0.0      \\\\\n",
       "\t 1948-01-12 & 273.35     & 277.95     &  0.4      \\\\\n",
       "\t 1948-01-13 & 273.35     & 279.95     &  0.0      \\\\\n",
       "\t 1948-01-14 & 275.45     & 282.05     &  2.2      \\\\\n",
       "\t 1948-01-15 & 272.25     & 278.95     & 26.2      \\\\\n",
       "\t 1948-01-16 & 270.15     & 273.85     &  0.8      \\\\\n",
       "\t 1948-01-17 & 267.05     & 272.85     &  0.0      \\\\\n",
       "\t 1948-01-18 & 265.45     & 272.85     &  7.5      \\\\\n",
       "\t 1948-01-19 & 269.15     & 273.85     &  3.1      \\\\\n",
       "\t 1948-01-20 & 264.95     & 270.25     & 11.1      \\\\\n",
       "\t 1948-01-21 & 265.95     & 272.85     &  0.0      \\\\\n",
       "\t 1948-01-22 & 261.55     & 269.85     &  0.0      \\\\\n",
       "\t 1948-01-23 & 262.85     & 269.85     &  0.0      \\\\\n",
       "\t 1948-01-24 & 268.05     & 281.05     &  0.0      \\\\\n",
       "\t 1948-01-25 & 273.35     & 282.05     &  0.0      \\\\\n",
       "\t 1948-01-26 & 270.15     & 283.05     &  0.0      \\\\\n",
       "\t 1948-01-27 & 274.45     & 287.05     &  8.1      \\\\\n",
       "\t 1948-01-28 & 274.45     & 287.05     &  8.9      \\\\\n",
       "\t 1948-01-29 & 270.15     & 279.95     &  1.1      \\\\\n",
       "\t 1948-01-30 & 274.25     & 281.05     &  0.0      \\\\\n",
       "\t ⋮ & ⋮ & ⋮ & ⋮\\\\\n",
       "\t 2009-12-02 & 273.05     & 276.05     &  0.0      \\\\\n",
       "\t 2009-12-03 & 270.55     & 275.25     &  0.2      \\\\\n",
       "\t 2009-12-04 & 271.45     & 273.75     & 10.5      \\\\\n",
       "\t 2009-12-05 & 271.75     & 275.75     &  0.0      \\\\\n",
       "\t 2009-12-06 & 269.15     & 275.15     &  0.0      \\\\\n",
       "\t 2009-12-07 & 274.35     & 278.25     &  0.0      \\\\\n",
       "\t 2009-12-08 & 275.15     & 276.85     & 16.8      \\\\\n",
       "\t 2009-12-09 & 272.55     & 275.55     &  0.0      \\\\\n",
       "\t 2009-12-10 & 270.15     & 276.15     &  3.6      \\\\\n",
       "\t 2009-12-11 & 273.65     & 276.85     &  3.9      \\\\\n",
       "\t 2009-12-12 & 273.05     & 275.15     &  1.1      \\\\\n",
       "\t 2009-12-13 & 270.85     & 273.15     &  0.0      \\\\\n",
       "\t 2009-12-14 & 265.75     & 270.85     &  0.0      \\\\\n",
       "\t 2009-12-15 & 264.65     & 268.45     &  0.0      \\\\\n",
       "\t 2009-12-16 & 265.55     & 268.55     &  0.0      \\\\\n",
       "\t 2009-12-17 & 263.25     & 268.75     &  0.0      \\\\\n",
       "\t 2009-12-18 & 262.35     & 266.25     &  0.0      \\\\\n",
       "\t 2009-12-19 & 261.25     & 266.95     &  0.4      \\\\\n",
       "\t 2009-12-20 & 258.95     & 264.75     &  0.0      \\\\\n",
       "\t 2009-12-21 & 262.85     & 279.15     &  0.0      \\\\\n",
       "\t 2009-12-22 & 277.15     & 286.25     &  2.8      \\\\\n",
       "\t 2009-12-23 & 275.95     & 285.55     &  2.5      \\\\\n",
       "\t 2009-12-24 & 274.05     & 288.55     &  0.7      \\\\\n",
       "\t 2009-12-25 & 273.55     & 287.05     & 20.1      \\\\\n",
       "\t 2009-12-26 & 269.05     & 274.05     &  0.0      \\\\\n",
       "\t 2009-12-27 & 267.45     & 273.25     &  0.0      \\\\\n",
       "\t 2009-12-28 & 268.25     & 273.55     &  0.0      \\\\\n",
       "\t 2009-12-29 & 268.85     & 274.85     &  0.0      \\\\\n",
       "\t 2009-12-30 & 271.45     & 276.65     &  0.8      \\\\\n",
       "\t 2009-12-31 & 272.35     & 276.85     &  0.7      \\\\\n",
       "\\end{tabular}\n"
      ],
      "text/markdown": [
       "\n",
       "date | minTemp | maxTemp | precip | \n",
       "|---|---|---|---|---|---|---|---|---|---|---|---|---|---|---|---|---|---|---|---|---|---|---|---|---|---|---|---|---|---|---|---|---|---|---|---|---|---|---|---|---|---|---|---|---|---|---|---|---|---|---|---|---|---|---|---|---|---|---|---|---|\n",
       "| 1948-01-01 | 265.95     | 270.85     |  NaN       | \n",
       "| 1948-01-02 | 269.05     | 276.95     | 22.0       | \n",
       "| 1948-01-03 | 274.45     | 277.95     | 12.9       | \n",
       "| 1948-01-04 | 271.25     | 276.95     |  0.0       | \n",
       "| 1948-01-05 | 271.05     | 279.95     |  0.9       | \n",
       "| 1948-01-06 | 271.85     | 276.95     |  0.0       | \n",
       "| 1948-01-07 | 271.85     | 277.95     |  0.2       | \n",
       "| 1948-01-08 | 271.25     | 277.95     |  2.4       | \n",
       "| 1948-01-09 | 267.85     | 272.85     |  0.0       | \n",
       "| 1948-01-10 | 267.85     | 281.05     |  0.0       | \n",
       "| 1948-01-11 | 271.25     | 276.95     |  0.0       | \n",
       "| 1948-01-12 | 273.35     | 277.95     |  0.4       | \n",
       "| 1948-01-13 | 273.35     | 279.95     |  0.0       | \n",
       "| 1948-01-14 | 275.45     | 282.05     |  2.2       | \n",
       "| 1948-01-15 | 272.25     | 278.95     | 26.2       | \n",
       "| 1948-01-16 | 270.15     | 273.85     |  0.8       | \n",
       "| 1948-01-17 | 267.05     | 272.85     |  0.0       | \n",
       "| 1948-01-18 | 265.45     | 272.85     |  7.5       | \n",
       "| 1948-01-19 | 269.15     | 273.85     |  3.1       | \n",
       "| 1948-01-20 | 264.95     | 270.25     | 11.1       | \n",
       "| 1948-01-21 | 265.95     | 272.85     |  0.0       | \n",
       "| 1948-01-22 | 261.55     | 269.85     |  0.0       | \n",
       "| 1948-01-23 | 262.85     | 269.85     |  0.0       | \n",
       "| 1948-01-24 | 268.05     | 281.05     |  0.0       | \n",
       "| 1948-01-25 | 273.35     | 282.05     |  0.0       | \n",
       "| 1948-01-26 | 270.15     | 283.05     |  0.0       | \n",
       "| 1948-01-27 | 274.45     | 287.05     |  8.1       | \n",
       "| 1948-01-28 | 274.45     | 287.05     |  8.9       | \n",
       "| 1948-01-29 | 270.15     | 279.95     |  1.1       | \n",
       "| 1948-01-30 | 274.25     | 281.05     |  0.0       | \n",
       "| ⋮ | ⋮ | ⋮ | ⋮ | \n",
       "| 2009-12-02 | 273.05     | 276.05     |  0.0       | \n",
       "| 2009-12-03 | 270.55     | 275.25     |  0.2       | \n",
       "| 2009-12-04 | 271.45     | 273.75     | 10.5       | \n",
       "| 2009-12-05 | 271.75     | 275.75     |  0.0       | \n",
       "| 2009-12-06 | 269.15     | 275.15     |  0.0       | \n",
       "| 2009-12-07 | 274.35     | 278.25     |  0.0       | \n",
       "| 2009-12-08 | 275.15     | 276.85     | 16.8       | \n",
       "| 2009-12-09 | 272.55     | 275.55     |  0.0       | \n",
       "| 2009-12-10 | 270.15     | 276.15     |  3.6       | \n",
       "| 2009-12-11 | 273.65     | 276.85     |  3.9       | \n",
       "| 2009-12-12 | 273.05     | 275.15     |  1.1       | \n",
       "| 2009-12-13 | 270.85     | 273.15     |  0.0       | \n",
       "| 2009-12-14 | 265.75     | 270.85     |  0.0       | \n",
       "| 2009-12-15 | 264.65     | 268.45     |  0.0       | \n",
       "| 2009-12-16 | 265.55     | 268.55     |  0.0       | \n",
       "| 2009-12-17 | 263.25     | 268.75     |  0.0       | \n",
       "| 2009-12-18 | 262.35     | 266.25     |  0.0       | \n",
       "| 2009-12-19 | 261.25     | 266.95     |  0.4       | \n",
       "| 2009-12-20 | 258.95     | 264.75     |  0.0       | \n",
       "| 2009-12-21 | 262.85     | 279.15     |  0.0       | \n",
       "| 2009-12-22 | 277.15     | 286.25     |  2.8       | \n",
       "| 2009-12-23 | 275.95     | 285.55     |  2.5       | \n",
       "| 2009-12-24 | 274.05     | 288.55     |  0.7       | \n",
       "| 2009-12-25 | 273.55     | 287.05     | 20.1       | \n",
       "| 2009-12-26 | 269.05     | 274.05     |  0.0       | \n",
       "| 2009-12-27 | 267.45     | 273.25     |  0.0       | \n",
       "| 2009-12-28 | 268.25     | 273.55     |  0.0       | \n",
       "| 2009-12-29 | 268.85     | 274.85     |  0.0       | \n",
       "| 2009-12-30 | 271.45     | 276.65     |  0.8       | \n",
       "| 2009-12-31 | 272.35     | 276.85     |  0.7       | \n",
       "\n",
       "\n"
      ],
      "text/plain": [
       "      date       minTemp maxTemp precip\n",
       "1     1948-01-01 265.95  270.85   NaN  \n",
       "2     1948-01-02 269.05  276.95  22.0  \n",
       "3     1948-01-03 274.45  277.95  12.9  \n",
       "4     1948-01-04 271.25  276.95   0.0  \n",
       "5     1948-01-05 271.05  279.95   0.9  \n",
       "6     1948-01-06 271.85  276.95   0.0  \n",
       "7     1948-01-07 271.85  277.95   0.2  \n",
       "8     1948-01-08 271.25  277.95   2.4  \n",
       "9     1948-01-09 267.85  272.85   0.0  \n",
       "10    1948-01-10 267.85  281.05   0.0  \n",
       "11    1948-01-11 271.25  276.95   0.0  \n",
       "12    1948-01-12 273.35  277.95   0.4  \n",
       "13    1948-01-13 273.35  279.95   0.0  \n",
       "14    1948-01-14 275.45  282.05   2.2  \n",
       "15    1948-01-15 272.25  278.95  26.2  \n",
       "16    1948-01-16 270.15  273.85   0.8  \n",
       "17    1948-01-17 267.05  272.85   0.0  \n",
       "18    1948-01-18 265.45  272.85   7.5  \n",
       "19    1948-01-19 269.15  273.85   3.1  \n",
       "20    1948-01-20 264.95  270.25  11.1  \n",
       "21    1948-01-21 265.95  272.85   0.0  \n",
       "22    1948-01-22 261.55  269.85   0.0  \n",
       "23    1948-01-23 262.85  269.85   0.0  \n",
       "24    1948-01-24 268.05  281.05   0.0  \n",
       "25    1948-01-25 273.35  282.05   0.0  \n",
       "26    1948-01-26 270.15  283.05   0.0  \n",
       "27    1948-01-27 274.45  287.05   8.1  \n",
       "28    1948-01-28 274.45  287.05   8.9  \n",
       "29    1948-01-29 270.15  279.95   1.1  \n",
       "30    1948-01-30 274.25  281.05   0.0  \n",
       "⋮     ⋮          ⋮       ⋮       ⋮     \n",
       "22617 2009-12-02 273.05  276.05   0.0  \n",
       "22618 2009-12-03 270.55  275.25   0.2  \n",
       "22619 2009-12-04 271.45  273.75  10.5  \n",
       "22620 2009-12-05 271.75  275.75   0.0  \n",
       "22621 2009-12-06 269.15  275.15   0.0  \n",
       "22622 2009-12-07 274.35  278.25   0.0  \n",
       "22623 2009-12-08 275.15  276.85  16.8  \n",
       "22624 2009-12-09 272.55  275.55   0.0  \n",
       "22625 2009-12-10 270.15  276.15   3.6  \n",
       "22626 2009-12-11 273.65  276.85   3.9  \n",
       "22627 2009-12-12 273.05  275.15   1.1  \n",
       "22628 2009-12-13 270.85  273.15   0.0  \n",
       "22629 2009-12-14 265.75  270.85   0.0  \n",
       "22630 2009-12-15 264.65  268.45   0.0  \n",
       "22631 2009-12-16 265.55  268.55   0.0  \n",
       "22632 2009-12-17 263.25  268.75   0.0  \n",
       "22633 2009-12-18 262.35  266.25   0.0  \n",
       "22634 2009-12-19 261.25  266.95   0.4  \n",
       "22635 2009-12-20 258.95  264.75   0.0  \n",
       "22636 2009-12-21 262.85  279.15   0.0  \n",
       "22637 2009-12-22 277.15  286.25   2.8  \n",
       "22638 2009-12-23 275.95  285.55   2.5  \n",
       "22639 2009-12-24 274.05  288.55   0.7  \n",
       "22640 2009-12-25 273.55  287.05  20.1  \n",
       "22641 2009-12-26 269.05  274.05   0.0  \n",
       "22642 2009-12-27 267.45  273.25   0.0  \n",
       "22643 2009-12-28 268.25  273.55   0.0  \n",
       "22644 2009-12-29 268.85  274.85   0.0  \n",
       "22645 2009-12-30 271.45  276.65   0.8  \n",
       "22646 2009-12-31 272.35  276.85   0.7  "
      ]
     },
     "metadata": {},
     "output_type": "display_data"
    }
   ],
   "source": [
    "mydata"
   ]
  },
  {
   "cell_type": "markdown",
   "metadata": {},
   "source": [
    "Will ich mir nur die ersten 10 Zeilen (n=10) ansehen, kann ich die Funktion \"head\" einsetzen!"
   ]
  },
  {
   "cell_type": "code",
   "execution_count": 435,
   "metadata": {},
   "outputs": [
    {
     "data": {
      "text/html": [
       "<table>\n",
       "<thead><tr><th scope=col>date</th><th scope=col>minTemp</th><th scope=col>maxTemp</th><th scope=col>precip</th></tr></thead>\n",
       "<tbody>\n",
       "\t<tr><td>1948-01-01</td><td>265.95    </td><td>270.85    </td><td> NaN      </td></tr>\n",
       "\t<tr><td>1948-01-02</td><td>269.05    </td><td>276.95    </td><td>22.0      </td></tr>\n",
       "\t<tr><td>1948-01-03</td><td>274.45    </td><td>277.95    </td><td>12.9      </td></tr>\n",
       "\t<tr><td>1948-01-04</td><td>271.25    </td><td>276.95    </td><td> 0.0      </td></tr>\n",
       "\t<tr><td>1948-01-05</td><td>271.05    </td><td>279.95    </td><td> 0.9      </td></tr>\n",
       "\t<tr><td>1948-01-06</td><td>271.85    </td><td>276.95    </td><td> 0.0      </td></tr>\n",
       "\t<tr><td>1948-01-07</td><td>271.85    </td><td>277.95    </td><td> 0.2      </td></tr>\n",
       "\t<tr><td>1948-01-08</td><td>271.25    </td><td>277.95    </td><td> 2.4      </td></tr>\n",
       "\t<tr><td>1948-01-09</td><td>267.85    </td><td>272.85    </td><td> 0.0      </td></tr>\n",
       "\t<tr><td>1948-01-10</td><td>267.85    </td><td>281.05    </td><td> 0.0      </td></tr>\n",
       "</tbody>\n",
       "</table>\n"
      ],
      "text/latex": [
       "\\begin{tabular}{r|llll}\n",
       " date & minTemp & maxTemp & precip\\\\\n",
       "\\hline\n",
       "\t 1948-01-01 & 265.95     & 270.85     &  NaN      \\\\\n",
       "\t 1948-01-02 & 269.05     & 276.95     & 22.0      \\\\\n",
       "\t 1948-01-03 & 274.45     & 277.95     & 12.9      \\\\\n",
       "\t 1948-01-04 & 271.25     & 276.95     &  0.0      \\\\\n",
       "\t 1948-01-05 & 271.05     & 279.95     &  0.9      \\\\\n",
       "\t 1948-01-06 & 271.85     & 276.95     &  0.0      \\\\\n",
       "\t 1948-01-07 & 271.85     & 277.95     &  0.2      \\\\\n",
       "\t 1948-01-08 & 271.25     & 277.95     &  2.4      \\\\\n",
       "\t 1948-01-09 & 267.85     & 272.85     &  0.0      \\\\\n",
       "\t 1948-01-10 & 267.85     & 281.05     &  0.0      \\\\\n",
       "\\end{tabular}\n"
      ],
      "text/markdown": [
       "\n",
       "date | minTemp | maxTemp | precip | \n",
       "|---|---|---|---|---|---|---|---|---|---|\n",
       "| 1948-01-01 | 265.95     | 270.85     |  NaN       | \n",
       "| 1948-01-02 | 269.05     | 276.95     | 22.0       | \n",
       "| 1948-01-03 | 274.45     | 277.95     | 12.9       | \n",
       "| 1948-01-04 | 271.25     | 276.95     |  0.0       | \n",
       "| 1948-01-05 | 271.05     | 279.95     |  0.9       | \n",
       "| 1948-01-06 | 271.85     | 276.95     |  0.0       | \n",
       "| 1948-01-07 | 271.85     | 277.95     |  0.2       | \n",
       "| 1948-01-08 | 271.25     | 277.95     |  2.4       | \n",
       "| 1948-01-09 | 267.85     | 272.85     |  0.0       | \n",
       "| 1948-01-10 | 267.85     | 281.05     |  0.0       | \n",
       "\n",
       "\n"
      ],
      "text/plain": [
       "   date       minTemp maxTemp precip\n",
       "1  1948-01-01 265.95  270.85   NaN  \n",
       "2  1948-01-02 269.05  276.95  22.0  \n",
       "3  1948-01-03 274.45  277.95  12.9  \n",
       "4  1948-01-04 271.25  276.95   0.0  \n",
       "5  1948-01-05 271.05  279.95   0.9  \n",
       "6  1948-01-06 271.85  276.95   0.0  \n",
       "7  1948-01-07 271.85  277.95   0.2  \n",
       "8  1948-01-08 271.25  277.95   2.4  \n",
       "9  1948-01-09 267.85  272.85   0.0  \n",
       "10 1948-01-10 267.85  281.05   0.0  "
      ]
     },
     "metadata": {},
     "output_type": "display_data"
    }
   ],
   "source": [
    "head(mydata, n=10)"
   ]
  },
  {
   "cell_type": "markdown",
   "metadata": {},
   "source": [
    "Ich kann die einzelnen Spalten der Variable ansprechen, indem ich das \"$\" Zeichen verwende und den Spaltennamen angebe! Wir testen das mit einem einfachen Ausdrucken der Werte für unser Datum, wieder nur für die ersten 10 Zeilen!"
   ]
  },
  {
   "cell_type": "code",
   "execution_count": 436,
   "metadata": {},
   "outputs": [
    {
     "data": {
      "text/html": [
       "<ol class=list-inline>\n",
       "\t<li>1948-01-01</li>\n",
       "\t<li>1948-01-02</li>\n",
       "\t<li>1948-01-03</li>\n",
       "\t<li>1948-01-04</li>\n",
       "\t<li>1948-01-05</li>\n",
       "\t<li>1948-01-06</li>\n",
       "\t<li>1948-01-07</li>\n",
       "\t<li>1948-01-08</li>\n",
       "\t<li>1948-01-09</li>\n",
       "\t<li>1948-01-10</li>\n",
       "</ol>\n"
      ],
      "text/latex": [
       "\\begin{enumerate*}\n",
       "\\item 1948-01-01\n",
       "\\item 1948-01-02\n",
       "\\item 1948-01-03\n",
       "\\item 1948-01-04\n",
       "\\item 1948-01-05\n",
       "\\item 1948-01-06\n",
       "\\item 1948-01-07\n",
       "\\item 1948-01-08\n",
       "\\item 1948-01-09\n",
       "\\item 1948-01-10\n",
       "\\end{enumerate*}\n"
      ],
      "text/markdown": [
       "1. 1948-01-01\n",
       "2. 1948-01-02\n",
       "3. 1948-01-03\n",
       "4. 1948-01-04\n",
       "5. 1948-01-05\n",
       "6. 1948-01-06\n",
       "7. 1948-01-07\n",
       "8. 1948-01-08\n",
       "9. 1948-01-09\n",
       "10. 1948-01-10\n",
       "\n",
       "\n"
      ],
      "text/plain": [
       " [1] 1948-01-01 1948-01-02 1948-01-03 1948-01-04 1948-01-05 1948-01-06\n",
       " [7] 1948-01-07 1948-01-08 1948-01-09 1948-01-10\n",
       "22646 Levels: 1948-01-01 1948-01-02 1948-01-03 1948-01-04 ... 2009-12-31"
      ]
     },
     "metadata": {},
     "output_type": "display_data"
    }
   ],
   "source": [
    "head(mydata$date, n=10)"
   ]
  },
  {
   "cell_type": "markdown",
   "metadata": {},
   "source": [
    "## Datenstatistik"
   ]
  },
  {
   "cell_type": "markdown",
   "metadata": {},
   "source": [
    "Oft interresiert uns die Statistik der Daten, z.B. der Mittelwert oder die Standardabweichung - diese Information kann man sich über den Befehl \"summary\" ausgeben lassen!"
   ]
  },
  {
   "cell_type": "code",
   "execution_count": 437,
   "metadata": {},
   "outputs": [
    {
     "data": {
      "text/plain": [
       "         date          minTemp         maxTemp          precip       \n",
       " 1948-01-01:    1   Min.   :245.7   Min.   :253.7   Min.   :  0.000  \n",
       " 1948-01-02:    1   1st Qu.:271.4   1st Qu.:277.9   1st Qu.:  0.000  \n",
       " 1948-01-03:    1   Median :276.9   Median :286.6   Median :  0.000  \n",
       " 1948-01-04:    1   Mean   :276.6   Mean   :285.6   Mean   :  2.933  \n",
       " 1948-01-05:    1   3rd Qu.:282.8   3rd Qu.:293.1   3rd Qu.:  2.700  \n",
       " 1948-01-06:    1   Max.   :292.4   Max.   :307.9   Max.   :110.500  \n",
       " (Other)   :22640                                   NA's   :2        "
      ]
     },
     "metadata": {},
     "output_type": "display_data"
    }
   ],
   "source": [
    "summary(mydata)"
   ]
  },
  {
   "cell_type": "markdown",
   "metadata": {},
   "source": [
    "## Einfache Plots"
   ]
  },
  {
   "cell_type": "markdown",
   "metadata": {},
   "source": [
    "Einfache Diagramme (= Plots) zu erstellen ist in R relativ einfach - und sie sehen gleich gut aus :-)\n",
    "Es gibt viele plotting Funktionen, eine sehr beliebte ist \"ggplot\", die viele Möglichkeiten bei der Erstellung von Graphiken bereitstellt (ein Schummelzettel für fast alle Optionen findet Ihr unter \n",
    "https://www.rstudio.com/wp-content/uploads/2015/06/ggplot2-german.pdf)\n",
    "\n",
    "Zunächst ist es sehr wichtig unsere erste Spalte von reinem Text in ein Datum zu transformieren, so dass beim plotten auch entspechend geordnet und in der X-Achse beschriftet werden kann - dies erledigt die Funktion \"as.date()\"!"
   ]
  },
  {
   "cell_type": "code",
   "execution_count": 438,
   "metadata": {},
   "outputs": [],
   "source": [
    "mydata$date = as.Date(mydata$date)"
   ]
  },
  {
   "cell_type": "markdown",
   "metadata": {},
   "source": [
    "Nun können wir die Bibliothek \"ggplot2\" laden (\"require(ggplot2)\") und einen ersten Plot ausgeben. Wir geben hier als Argumente die Daten (\"data=mydata\"), die Datumsspalte (\"aes(date)\" sowie die Information, dass unsere Maximaltemperatur als Linienplot dargestellt werden soll (\"+ geom_line(aes(y = maxTemp))\") mit.\n",
    "\n",
    "Wir können mit \"+\" auch noch die Achsen beschriften (und einen Titel hinzufügen):\n",
    "\n",
    "+ggtitle(\"Neuer Bildtitel\")\n",
    "+xlab(\"Neuer x-Achsentitel\")\n",
    "+xlab(\"Neuer x-Achsentitel\")"
   ]
  },
  {
   "cell_type": "code",
   "execution_count": 439,
   "metadata": {},
   "outputs": [
    {
     "data": {},
     "metadata": {},
     "output_type": "display_data"
    },
    {
     "data": {
      "image/png": "[encoded data removed]",
      "text/plain": [
       "plot without title"
      ]
     },
     "metadata": {},
     "output_type": "display_data"
    }
   ],
   "source": [
    "require(ggplot2)\n",
    "ggplot(data=mydata, aes(date)) + geom_line(aes(y = maxTemp)) + xlab(\"Datum\") + ylab(\"Temperaturmaximum (K)\")"
   ]
  },
  {
   "cell_type": "markdown",
   "metadata": {},
   "source": [
    "## Zeiträume aus den Daten auswählen"
   ]
  },
  {
   "cell_type": "markdown",
   "metadata": {},
   "source": [
    "Manchmal will man nur mit einem Zeitbereich einer Datenreihe arbeiten. Dann kann man auch Zeiträume wählen und am besten einer anderen Variablen zuordnen. Wir wählen zum Test nur 5 Tage und weisen die entsprechenden Werte der Variable \"mydata_selection\" zu. Danach geben wir uns die Werte durch Eingabe des Variablennamens aus."
   ]
  },
  {
   "cell_type": "code",
   "execution_count": 440,
   "metadata": {},
   "outputs": [],
   "source": [
    "mydata_selection = mydata[mydata$date>=\"2000-01-01\" & mydata$date<=\"2000-01-05\",]"
   ]
  },
  {
   "cell_type": "code",
   "execution_count": 441,
   "metadata": {},
   "outputs": [
    {
     "data": {
      "text/html": [
       "<table>\n",
       "<thead><tr><th></th><th scope=col>date</th><th scope=col>minTemp</th><th scope=col>maxTemp</th><th scope=col>precip</th></tr></thead>\n",
       "<tbody>\n",
       "\t<tr><th scope=row>18994</th><td>2000-01-01</td><td>267.15    </td><td>271.15    </td><td>5.5       </td></tr>\n",
       "\t<tr><th scope=row>18995</th><td>2000-01-02</td><td>269.15    </td><td>273.15    </td><td>0.0       </td></tr>\n",
       "\t<tr><th scope=row>18996</th><td>2000-01-03</td><td>265.75    </td><td>269.85    </td><td>0.0       </td></tr>\n",
       "\t<tr><th scope=row>18997</th><td>2000-01-04</td><td>264.25    </td><td>269.35    </td><td>0.0       </td></tr>\n",
       "\t<tr><th scope=row>18998</th><td>2000-01-05</td><td>266.95    </td><td>274.15    </td><td>0.0       </td></tr>\n",
       "</tbody>\n",
       "</table>\n"
      ],
      "text/latex": [
       "\\begin{tabular}{r|llll}\n",
       "  & date & minTemp & maxTemp & precip\\\\\n",
       "\\hline\n",
       "\t18994 & 2000-01-01 & 267.15     & 271.15     & 5.5       \\\\\n",
       "\t18995 & 2000-01-02 & 269.15     & 273.15     & 0.0       \\\\\n",
       "\t18996 & 2000-01-03 & 265.75     & 269.85     & 0.0       \\\\\n",
       "\t18997 & 2000-01-04 & 264.25     & 269.35     & 0.0       \\\\\n",
       "\t18998 & 2000-01-05 & 266.95     & 274.15     & 0.0       \\\\\n",
       "\\end{tabular}\n"
      ],
      "text/markdown": [
       "\n",
       "| <!--/--> | date | minTemp | maxTemp | precip | \n",
       "|---|---|---|---|---|\n",
       "| 18994 | 2000-01-01 | 267.15     | 271.15     | 5.5        | \n",
       "| 18995 | 2000-01-02 | 269.15     | 273.15     | 0.0        | \n",
       "| 18996 | 2000-01-03 | 265.75     | 269.85     | 0.0        | \n",
       "| 18997 | 2000-01-04 | 264.25     | 269.35     | 0.0        | \n",
       "| 18998 | 2000-01-05 | 266.95     | 274.15     | 0.0        | \n",
       "\n",
       "\n"
      ],
      "text/plain": [
       "      date       minTemp maxTemp precip\n",
       "18994 2000-01-01 267.15  271.15  5.5   \n",
       "18995 2000-01-02 269.15  273.15  0.0   \n",
       "18996 2000-01-03 265.75  269.85  0.0   \n",
       "18997 2000-01-04 264.25  269.35  0.0   \n",
       "18998 2000-01-05 266.95  274.15  0.0   "
      ]
     },
     "metadata": {},
     "output_type": "display_data"
    }
   ],
   "source": [
    "mydata_selection"
   ]
  },
  {
   "cell_type": "markdown",
   "metadata": {},
   "source": [
    "## Daten monatsweise oder jährlich zusammenfassen"
   ]
  },
  {
   "cell_type": "markdown",
   "metadata": {},
   "source": [
    "Will man sich eine tägliche Zeitreihe auf Monats oder Jahresbasis ansehen, so ist es erforderlich diese entsprechend zusammenzufassen (= zu aggregieren). Im Folgenden benützen wir die Funktionalität der Bibliothek \"lubridate\" dazu. Wir weisen einer neuen Variablen \"maxTemp_month\" die Werte aus \"mydata\" zu, gruppieren diese monatlich (\"floor_date(date, \"month\")\") und fassen dabei die Daten durch \"summarize(maxTemp=mean(maxTemp))\" unter Bildung des Mittelwertes zusammen."
   ]
  },
  {
   "cell_type": "code",
   "execution_count": 442,
   "metadata": {},
   "outputs": [],
   "source": [
    "maxTemp_month = mydata %>% group_by(month=floor_date(date, \"month\")) %>% summarize(maxTemp=mean(maxTemp))"
   ]
  },
  {
   "cell_type": "markdown",
   "metadata": {},
   "source": [
    "Wir lassun uns zum Test die ersten 10 Zeilen unserer neuen Variablen ausgeben, um zu sehen, was hier passiert ist:"
   ]
  },
  {
   "cell_type": "code",
   "execution_count": 443,
   "metadata": {},
   "outputs": [
    {
     "data": {
      "text/html": [
       "<table>\n",
       "<thead><tr><th scope=col>month</th><th scope=col>maxTemp</th></tr></thead>\n",
       "<tbody>\n",
       "\t<tr><td>1948-01-01</td><td>277.6694  </td></tr>\n",
       "\t<tr><td>1948-02-01</td><td>276.6569  </td></tr>\n",
       "\t<tr><td>1948-03-01</td><td>285.7887  </td></tr>\n",
       "\t<tr><td>1948-04-01</td><td>288.5867  </td></tr>\n",
       "\t<tr><td>1948-05-01</td><td>294.3274  </td></tr>\n",
       "\t<tr><td>1948-06-01</td><td>293.2667  </td></tr>\n",
       "\t<tr><td>1948-07-01</td><td>293.1952  </td></tr>\n",
       "\t<tr><td>1948-08-01</td><td>294.8597  </td></tr>\n",
       "\t<tr><td>1948-09-01</td><td>292.9900  </td></tr>\n",
       "\t<tr><td>1948-10-01</td><td>287.1565  </td></tr>\n",
       "</tbody>\n",
       "</table>\n"
      ],
      "text/latex": [
       "\\begin{tabular}{r|ll}\n",
       " month & maxTemp\\\\\n",
       "\\hline\n",
       "\t 1948-01-01 & 277.6694  \\\\\n",
       "\t 1948-02-01 & 276.6569  \\\\\n",
       "\t 1948-03-01 & 285.7887  \\\\\n",
       "\t 1948-04-01 & 288.5867  \\\\\n",
       "\t 1948-05-01 & 294.3274  \\\\\n",
       "\t 1948-06-01 & 293.2667  \\\\\n",
       "\t 1948-07-01 & 293.1952  \\\\\n",
       "\t 1948-08-01 & 294.8597  \\\\\n",
       "\t 1948-09-01 & 292.9900  \\\\\n",
       "\t 1948-10-01 & 287.1565  \\\\\n",
       "\\end{tabular}\n"
      ],
      "text/markdown": [
       "\n",
       "month | maxTemp | \n",
       "|---|---|---|---|---|---|---|---|---|---|\n",
       "| 1948-01-01 | 277.6694   | \n",
       "| 1948-02-01 | 276.6569   | \n",
       "| 1948-03-01 | 285.7887   | \n",
       "| 1948-04-01 | 288.5867   | \n",
       "| 1948-05-01 | 294.3274   | \n",
       "| 1948-06-01 | 293.2667   | \n",
       "| 1948-07-01 | 293.1952   | \n",
       "| 1948-08-01 | 294.8597   | \n",
       "| 1948-09-01 | 292.9900   | \n",
       "| 1948-10-01 | 287.1565   | \n",
       "\n",
       "\n"
      ],
      "text/plain": [
       "   month      maxTemp \n",
       "1  1948-01-01 277.6694\n",
       "2  1948-02-01 276.6569\n",
       "3  1948-03-01 285.7887\n",
       "4  1948-04-01 288.5867\n",
       "5  1948-05-01 294.3274\n",
       "6  1948-06-01 293.2667\n",
       "7  1948-07-01 293.1952\n",
       "8  1948-08-01 294.8597\n",
       "9  1948-09-01 292.9900\n",
       "10 1948-10-01 287.1565"
      ]
     },
     "metadata": {},
     "output_type": "display_data"
    }
   ],
   "source": [
    "head(maxTemp_month, n = 10)"
   ]
  },
  {
   "cell_type": "markdown",
   "metadata": {},
   "source": [
    "Nun wollen wir Jahresmittelwerte bilden. Das machen wir ähnlich wie für die Monatsmittel, nur geben wir bei der Gruppierung \"group_by(year=floor_date(date, \"year\"))\" an. Die Ergebnisse schreiben wir in eine neue Variable \"maxTemp_year\". Diesmal suchen wir nicht das Mittel der Tempearturmaxima sondern den höchsten Wert im Jahr, das Zusammenfassungskriterium ist also \"max\" (\"summarize(maxTemp=max(maxTemp))\")."
   ]
  },
  {
   "cell_type": "code",
   "execution_count": 444,
   "metadata": {},
   "outputs": [],
   "source": [
    "maxTemp_year = mydata %>% group_by(year=floor_date(date, \"year\")) %>% summarize(maxTemp=max(maxTemp))"
   ]
  },
  {
   "cell_type": "markdown",
   "metadata": {},
   "source": [
    "Wieder schauen wir uns an, wie das Ergebnis aussieht:"
   ]
  },
  {
   "cell_type": "code",
   "execution_count": 445,
   "metadata": {},
   "outputs": [
    {
     "data": {
      "text/html": [
       "<table>\n",
       "<thead><tr><th scope=col>year</th><th scope=col>maxTemp</th></tr></thead>\n",
       "<tbody>\n",
       "\t<tr><td>1948-01-01</td><td>302.45    </td></tr>\n",
       "\t<tr><td>1949-01-01</td><td>305.35    </td></tr>\n",
       "\t<tr><td>1950-01-01</td><td>306.35    </td></tr>\n",
       "\t<tr><td>1951-01-01</td><td>303.45    </td></tr>\n",
       "\t<tr><td>1952-01-01</td><td>307.35    </td></tr>\n",
       "\t<tr><td>1953-01-01</td><td>304.05    </td></tr>\n",
       "\t<tr><td>1954-01-01</td><td>301.45    </td></tr>\n",
       "\t<tr><td>1955-01-01</td><td>303.45    </td></tr>\n",
       "\t<tr><td>1956-01-01</td><td>302.05    </td></tr>\n",
       "\t<tr><td>1957-01-01</td><td>306.35    </td></tr>\n",
       "</tbody>\n",
       "</table>\n"
      ],
      "text/latex": [
       "\\begin{tabular}{r|ll}\n",
       " year & maxTemp\\\\\n",
       "\\hline\n",
       "\t 1948-01-01 & 302.45    \\\\\n",
       "\t 1949-01-01 & 305.35    \\\\\n",
       "\t 1950-01-01 & 306.35    \\\\\n",
       "\t 1951-01-01 & 303.45    \\\\\n",
       "\t 1952-01-01 & 307.35    \\\\\n",
       "\t 1953-01-01 & 304.05    \\\\\n",
       "\t 1954-01-01 & 301.45    \\\\\n",
       "\t 1955-01-01 & 303.45    \\\\\n",
       "\t 1956-01-01 & 302.05    \\\\\n",
       "\t 1957-01-01 & 306.35    \\\\\n",
       "\\end{tabular}\n"
      ],
      "text/markdown": [
       "\n",
       "year | maxTemp | \n",
       "|---|---|---|---|---|---|---|---|---|---|\n",
       "| 1948-01-01 | 302.45     | \n",
       "| 1949-01-01 | 305.35     | \n",
       "| 1950-01-01 | 306.35     | \n",
       "| 1951-01-01 | 303.45     | \n",
       "| 1952-01-01 | 307.35     | \n",
       "| 1953-01-01 | 304.05     | \n",
       "| 1954-01-01 | 301.45     | \n",
       "| 1955-01-01 | 303.45     | \n",
       "| 1956-01-01 | 302.05     | \n",
       "| 1957-01-01 | 306.35     | \n",
       "\n",
       "\n"
      ],
      "text/plain": [
       "   year       maxTemp\n",
       "1  1948-01-01 302.45 \n",
       "2  1949-01-01 305.35 \n",
       "3  1950-01-01 306.35 \n",
       "4  1951-01-01 303.45 \n",
       "5  1952-01-01 307.35 \n",
       "6  1953-01-01 304.05 \n",
       "7  1954-01-01 301.45 \n",
       "8  1955-01-01 303.45 \n",
       "9  1956-01-01 302.05 \n",
       "10 1957-01-01 306.35 "
      ]
     },
     "metadata": {},
     "output_type": "display_data"
    }
   ],
   "source": [
    "head(maxTemp_year, n=10)"
   ]
  },
  {
   "cell_type": "markdown",
   "metadata": {},
   "source": [
    "Die eben berechneten jährlichen Temperaturmaxima wllen wir wieder plotten: "
   ]
  },
  {
   "cell_type": "code",
   "execution_count": 446,
   "metadata": {},
   "outputs": [
    {
     "data": {},
     "metadata": {},
     "output_type": "display_data"
    },
    {
     "data": {
      "image/png": "[encoded data removed]",
      "text/plain": [
       "plot without title"
      ]
     },
     "metadata": {},
     "output_type": "display_data"
    }
   ],
   "source": [
    "ggplot(data=maxTemp_year, aes(year)) + geom_line(aes(y = maxTemp)) + xlab(\"Jahr\") + ylab(\"Temperaturmaximum (K)\")"
   ]
  },
  {
   "cell_type": "markdown",
   "metadata": {},
   "source": [
    "## Lineare Regression"
   ]
  },
  {
   "cell_type": "markdown",
   "metadata": {},
   "source": [
    "Wir wollen nun einmal untersuchen, ob es hier in den Maximaltemperaturen vielleicht einen linearen Trend gibt. Dafür verwenden wir die Fumktion \"lm\" (linear model) und übergeben dieser zunächst den Y-Wert (die Temperatur) und dann den X-Wert (das Jahr). Die Ergebnisse schreiben wir in die Variable \"fit_maxTemp\"!\n",
    "\n",
    "Zur linearen Regression: \n",
    "Die lineare Regression versucht einen Y-Wert in linearer Abhängigkeit eines X-Wertes zu berechnen. Heraus kommt eine Regressionsfunktion: y = Achsenabschnitt + Steigung * x"
   ]
  },
  {
   "cell_type": "code",
   "execution_count": 447,
   "metadata": {},
   "outputs": [],
   "source": [
    "fit_maxTemp <- lm(maxTemp_year$maxTemp ~ maxTemp_year$year)"
   ]
  },
  {
   "cell_type": "markdown",
   "metadata": {},
   "source": [
    "Durch diesen Aufruf haben wir eine Variable \"fit_maxTemp\" definiert, die alle Information zur berechneten Regression enthält. Die Koeffizienten (Achsenabschnitt (= Intercept) und die Steigung (hier: maxTemp_year$year)) kann man sich über Aufruf von \"coefficients()\" und Angabe der Regressionsfunktion (\"fit_maxTemp\") ausgeben lassen:"
   ]
  },
  {
   "cell_type": "code",
   "execution_count": 448,
   "metadata": {},
   "outputs": [
    {
     "data": {
      "text/html": [
       "<dl class=dl-horizontal>\n",
       "\t<dt>(Intercept)</dt>\n",
       "\t\t<dd>303.984230593632</dd>\n",
       "\t<dt>maxTemp_year$year</dt>\n",
       "\t\t<dd>0.000130807533262412</dd>\n",
       "</dl>\n"
      ],
      "text/latex": [
       "\\begin{description*}\n",
       "\\item[(Intercept)] 303.984230593632\n",
       "\\item[maxTemp\\textbackslash{}\\_year\\textbackslash{}\\$year] 0.000130807533262412\n",
       "\\end{description*}\n"
      ],
      "text/markdown": [
       "(Intercept)\n",
       ":   303.984230593632maxTemp_year$year\n",
       ":   0.000130807533262412\n",
       "\n"
      ],
      "text/plain": [
       "      (Intercept) maxTemp_year$year \n",
       "     3.039842e+02      1.308075e-04 "
      ]
     },
     "metadata": {},
     "output_type": "display_data"
    }
   ],
   "source": [
    "coefficients(fit_maxTemp)"
   ]
  },
  {
   "cell_type": "markdown",
   "metadata": {},
   "source": [
    "Will man sich gleich die gesamte Zusammenfassung der Linearen Regression ansehen, verwendet man die Funktion \"summary()\" unter Angabe der Regressionsfunktion (\"fit_maxTemp\").\n",
    "\n",
    "Ausgeben werden dann i) unter \"Call\" die verwendete Funktion, ii) die Statistik der Abweichungen (Residuen) unter \"Residuals\", iii) die Regressionskoeffizienten (Achsenabschnitt = Intercept und die Steigung) zusammen mit den Ergebnissen des Signifikanztests unter \"Coefficients\", sowie iv) der Standardfehler, das R2 und die F-Statistik.\n",
    "\n",
    "Aber was heisst \"Signifikanz\" eigentlich: Der hier verwendete Signifikanztest testet die Regressionskoeffizienten gegen \"0\". Er testet also, mit welcher Wahrscheinlichkeit ich richtig liege dass z.B. die Steigung ungleich \"0\" ist, also eine deutliche Zu- oder Abnahme vorliegt."
   ]
  },
  {
   "cell_type": "code",
   "execution_count": 449,
   "metadata": {},
   "outputs": [
    {
     "data": {
      "text/plain": [
       "\n",
       "Call:\n",
       "lm(formula = maxTemp_year$maxTemp ~ maxTemp_year$year)\n",
       "\n",
       "Residuals:\n",
       "    Min      1Q  Median      3Q     Max \n",
       "-3.4165 -1.0542  0.1480  0.7621  4.2258 \n",
       "\n",
       "Coefficients:\n",
       "                   Estimate Std. Error  t value Pr(>|t|)    \n",
       "(Intercept)       3.040e+02  2.261e-01 1344.303  < 2e-16 ***\n",
       "maxTemp_year$year 1.308e-04  3.125e-05    4.186 9.43e-05 ***\n",
       "---\n",
       "Signif. codes:  0 ‘***’ 0.001 ‘**’ 0.01 ‘*’ 0.05 ‘.’ 0.1 ‘ ’ 1\n",
       "\n",
       "Residual standard error: 1.608 on 60 degrees of freedom\n",
       "Multiple R-squared:  0.226,\tAdjusted R-squared:  0.2131 \n",
       "F-statistic: 17.52 on 1 and 60 DF,  p-value: 9.428e-05\n"
      ]
     },
     "metadata": {},
     "output_type": "display_data"
    }
   ],
   "source": [
    "summary(fit_maxTemp) "
   ]
  },
  {
   "cell_type": "markdown",
   "metadata": {},
   "source": [
    "Die in Abhängigkeit des Jahres berechneten Regressionswerte kann man sich über \"fitted.values\" und Angabe der Regressionsfunktion (\"fit_maxTemp\") ausgeben lassen:"
   ]
  },
  {
   "cell_type": "code",
   "execution_count": 450,
   "metadata": {},
   "outputs": [
    {
     "data": {
      "text/html": [
       "<dl class=dl-horizontal>\n",
       "\t<dt>1</dt>\n",
       "\t\t<dd>302.933061256336</dd>\n",
       "\t<dt>2</dt>\n",
       "\t\t<dd>302.980936813509</dd>\n",
       "\t<dt>3</dt>\n",
       "\t\t<dd>303.02868156315</dd>\n",
       "\t<dt>4</dt>\n",
       "\t\t<dd>303.076426312791</dd>\n",
       "\t<dt>5</dt>\n",
       "\t\t<dd>303.124171062432</dd>\n",
       "\t<dt>6</dt>\n",
       "\t\t<dd>303.172046619606</dd>\n",
       "\t<dt>7</dt>\n",
       "\t\t<dd>303.219791369246</dd>\n",
       "\t<dt>8</dt>\n",
       "\t\t<dd>303.267536118887</dd>\n",
       "\t<dt>9</dt>\n",
       "\t\t<dd>303.315280868528</dd>\n",
       "\t<dt>10</dt>\n",
       "\t\t<dd>303.363156425702</dd>\n",
       "\t<dt>11</dt>\n",
       "\t\t<dd>303.410901175343</dd>\n",
       "\t<dt>12</dt>\n",
       "\t\t<dd>303.458645924984</dd>\n",
       "\t<dt>13</dt>\n",
       "\t\t<dd>303.506390674624</dd>\n",
       "\t<dt>14</dt>\n",
       "\t\t<dd>303.554266231798</dd>\n",
       "\t<dt>15</dt>\n",
       "\t\t<dd>303.602010981439</dd>\n",
       "\t<dt>16</dt>\n",
       "\t\t<dd>303.64975573108</dd>\n",
       "\t<dt>17</dt>\n",
       "\t\t<dd>303.697500480721</dd>\n",
       "\t<dt>18</dt>\n",
       "\t\t<dd>303.745376037895</dd>\n",
       "\t<dt>19</dt>\n",
       "\t\t<dd>303.793120787536</dd>\n",
       "\t<dt>20</dt>\n",
       "\t\t<dd>303.840865537176</dd>\n",
       "\t<dt>21</dt>\n",
       "\t\t<dd>303.888610286817</dd>\n",
       "\t<dt>22</dt>\n",
       "\t\t<dd>303.936485843991</dd>\n",
       "\t<dt>23</dt>\n",
       "\t\t<dd>303.984230593632</dd>\n",
       "\t<dt>24</dt>\n",
       "\t\t<dd>304.031975343273</dd>\n",
       "\t<dt>25</dt>\n",
       "\t\t<dd>304.079720092914</dd>\n",
       "\t<dt>26</dt>\n",
       "\t\t<dd>304.127595650088</dd>\n",
       "\t<dt>27</dt>\n",
       "\t\t<dd>304.175340399728</dd>\n",
       "\t<dt>28</dt>\n",
       "\t\t<dd>304.223085149369</dd>\n",
       "\t<dt>29</dt>\n",
       "\t\t<dd>304.27082989901</dd>\n",
       "\t<dt>30</dt>\n",
       "\t\t<dd>304.318705456184</dd>\n",
       "\t<dt>31</dt>\n",
       "\t\t<dd>304.366450205825</dd>\n",
       "\t<dt>32</dt>\n",
       "\t\t<dd>304.414194955466</dd>\n",
       "\t<dt>33</dt>\n",
       "\t\t<dd>304.461939705106</dd>\n",
       "\t<dt>34</dt>\n",
       "\t\t<dd>304.50981526228</dd>\n",
       "\t<dt>35</dt>\n",
       "\t\t<dd>304.557560011921</dd>\n",
       "\t<dt>36</dt>\n",
       "\t\t<dd>304.605304761562</dd>\n",
       "\t<dt>37</dt>\n",
       "\t\t<dd>304.653049511203</dd>\n",
       "\t<dt>38</dt>\n",
       "\t\t<dd>304.700925068377</dd>\n",
       "\t<dt>39</dt>\n",
       "\t\t<dd>304.748669818018</dd>\n",
       "\t<dt>40</dt>\n",
       "\t\t<dd>304.796414567658</dd>\n",
       "\t<dt>41</dt>\n",
       "\t\t<dd>304.844159317299</dd>\n",
       "\t<dt>42</dt>\n",
       "\t\t<dd>304.892034874473</dd>\n",
       "\t<dt>43</dt>\n",
       "\t\t<dd>304.939779624114</dd>\n",
       "\t<dt>44</dt>\n",
       "\t\t<dd>304.987524373755</dd>\n",
       "\t<dt>45</dt>\n",
       "\t\t<dd>305.035269123395</dd>\n",
       "\t<dt>46</dt>\n",
       "\t\t<dd>305.08314468057</dd>\n",
       "\t<dt>47</dt>\n",
       "\t\t<dd>305.13088943021</dd>\n",
       "\t<dt>48</dt>\n",
       "\t\t<dd>305.178634179851</dd>\n",
       "\t<dt>49</dt>\n",
       "\t\t<dd>305.226378929492</dd>\n",
       "\t<dt>50</dt>\n",
       "\t\t<dd>305.274254486666</dd>\n",
       "\t<dt>51</dt>\n",
       "\t\t<dd>305.321999236307</dd>\n",
       "\t<dt>52</dt>\n",
       "\t\t<dd>305.369743985947</dd>\n",
       "\t<dt>53</dt>\n",
       "\t\t<dd>305.417488735588</dd>\n",
       "\t<dt>54</dt>\n",
       "\t\t<dd>305.465364292762</dd>\n",
       "\t<dt>55</dt>\n",
       "\t\t<dd>305.513109042403</dd>\n",
       "\t<dt>56</dt>\n",
       "\t\t<dd>305.560853792044</dd>\n",
       "\t<dt>57</dt>\n",
       "\t\t<dd>305.608598541685</dd>\n",
       "\t<dt>58</dt>\n",
       "\t\t<dd>305.656474098859</dd>\n",
       "\t<dt>59</dt>\n",
       "\t\t<dd>305.704218848499</dd>\n",
       "\t<dt>60</dt>\n",
       "\t\t<dd>305.75196359814</dd>\n",
       "\t<dt>61</dt>\n",
       "\t\t<dd>305.799708347781</dd>\n",
       "\t<dt>62</dt>\n",
       "\t\t<dd>305.847583904955</dd>\n",
       "</dl>\n"
      ],
      "text/latex": [
       "\\begin{description*}\n",
       "\\item[1] 302.933061256336\n",
       "\\item[2] 302.980936813509\n",
       "\\item[3] 303.02868156315\n",
       "\\item[4] 303.076426312791\n",
       "\\item[5] 303.124171062432\n",
       "\\item[6] 303.172046619606\n",
       "\\item[7] 303.219791369246\n",
       "\\item[8] 303.267536118887\n",
       "\\item[9] 303.315280868528\n",
       "\\item[10] 303.363156425702\n",
       "\\item[11] 303.410901175343\n",
       "\\item[12] 303.458645924984\n",
       "\\item[13] 303.506390674624\n",
       "\\item[14] 303.554266231798\n",
       "\\item[15] 303.602010981439\n",
       "\\item[16] 303.64975573108\n",
       "\\item[17] 303.697500480721\n",
       "\\item[18] 303.745376037895\n",
       "\\item[19] 303.793120787536\n",
       "\\item[20] 303.840865537176\n",
       "\\item[21] 303.888610286817\n",
       "\\item[22] 303.936485843991\n",
       "\\item[23] 303.984230593632\n",
       "\\item[24] 304.031975343273\n",
       "\\item[25] 304.079720092914\n",
       "\\item[26] 304.127595650088\n",
       "\\item[27] 304.175340399728\n",
       "\\item[28] 304.223085149369\n",
       "\\item[29] 304.27082989901\n",
       "\\item[30] 304.318705456184\n",
       "\\item[31] 304.366450205825\n",
       "\\item[32] 304.414194955466\n",
       "\\item[33] 304.461939705106\n",
       "\\item[34] 304.50981526228\n",
       "\\item[35] 304.557560011921\n",
       "\\item[36] 304.605304761562\n",
       "\\item[37] 304.653049511203\n",
       "\\item[38] 304.700925068377\n",
       "\\item[39] 304.748669818018\n",
       "\\item[40] 304.796414567658\n",
       "\\item[41] 304.844159317299\n",
       "\\item[42] 304.892034874473\n",
       "\\item[43] 304.939779624114\n",
       "\\item[44] 304.987524373755\n",
       "\\item[45] 305.035269123395\n",
       "\\item[46] 305.08314468057\n",
       "\\item[47] 305.13088943021\n",
       "\\item[48] 305.178634179851\n",
       "\\item[49] 305.226378929492\n",
       "\\item[50] 305.274254486666\n",
       "\\item[51] 305.321999236307\n",
       "\\item[52] 305.369743985947\n",
       "\\item[53] 305.417488735588\n",
       "\\item[54] 305.465364292762\n",
       "\\item[55] 305.513109042403\n",
       "\\item[56] 305.560853792044\n",
       "\\item[57] 305.608598541685\n",
       "\\item[58] 305.656474098859\n",
       "\\item[59] 305.704218848499\n",
       "\\item[60] 305.75196359814\n",
       "\\item[61] 305.799708347781\n",
       "\\item[62] 305.847583904955\n",
       "\\end{description*}\n"
      ],
      "text/markdown": [
       "1\n",
       ":   302.9330612563362\n",
       ":   302.9809368135093\n",
       ":   303.028681563154\n",
       ":   303.0764263127915\n",
       ":   303.1241710624326\n",
       ":   303.1720466196067\n",
       ":   303.2197913692468\n",
       ":   303.2675361188879\n",
       ":   303.31528086852810\n",
       ":   303.36315642570211\n",
       ":   303.41090117534312\n",
       ":   303.45864592498413\n",
       ":   303.50639067462414\n",
       ":   303.55426623179815\n",
       ":   303.60201098143916\n",
       ":   303.6497557310817\n",
       ":   303.69750048072118\n",
       ":   303.74537603789519\n",
       ":   303.79312078753620\n",
       ":   303.84086553717621\n",
       ":   303.88861028681722\n",
       ":   303.93648584399123\n",
       ":   303.98423059363224\n",
       ":   304.03197534327325\n",
       ":   304.07972009291426\n",
       ":   304.12759565008827\n",
       ":   304.17534039972828\n",
       ":   304.22308514936929\n",
       ":   304.2708298990130\n",
       ":   304.31870545618431\n",
       ":   304.36645020582532\n",
       ":   304.41419495546633\n",
       ":   304.46193970510634\n",
       ":   304.5098152622835\n",
       ":   304.55756001192136\n",
       ":   304.60530476156237\n",
       ":   304.65304951120338\n",
       ":   304.70092506837739\n",
       ":   304.74866981801840\n",
       ":   304.79641456765841\n",
       ":   304.84415931729942\n",
       ":   304.89203487447343\n",
       ":   304.93977962411444\n",
       ":   304.98752437375545\n",
       ":   305.03526912339546\n",
       ":   305.0831446805747\n",
       ":   305.1308894302148\n",
       ":   305.17863417985149\n",
       ":   305.22637892949250\n",
       ":   305.27425448666651\n",
       ":   305.32199923630752\n",
       ":   305.36974398594753\n",
       ":   305.41748873558854\n",
       ":   305.46536429276255\n",
       ":   305.51310904240356\n",
       ":   305.56085379204457\n",
       ":   305.60859854168558\n",
       ":   305.65647409885959\n",
       ":   305.70421884849960\n",
       ":   305.7519635981461\n",
       ":   305.79970834778162\n",
       ":   305.847583904955\n",
       "\n"
      ],
      "text/plain": [
       "       1        2        3        4        5        6        7        8 \n",
       "302.9331 302.9809 303.0287 303.0764 303.1242 303.1720 303.2198 303.2675 \n",
       "       9       10       11       12       13       14       15       16 \n",
       "303.3153 303.3632 303.4109 303.4586 303.5064 303.5543 303.6020 303.6498 \n",
       "      17       18       19       20       21       22       23       24 \n",
       "303.6975 303.7454 303.7931 303.8409 303.8886 303.9365 303.9842 304.0320 \n",
       "      25       26       27       28       29       30       31       32 \n",
       "304.0797 304.1276 304.1753 304.2231 304.2708 304.3187 304.3665 304.4142 \n",
       "      33       34       35       36       37       38       39       40 \n",
       "304.4619 304.5098 304.5576 304.6053 304.6530 304.7009 304.7487 304.7964 \n",
       "      41       42       43       44       45       46       47       48 \n",
       "304.8442 304.8920 304.9398 304.9875 305.0353 305.0831 305.1309 305.1786 \n",
       "      49       50       51       52       53       54       55       56 \n",
       "305.2264 305.2743 305.3220 305.3697 305.4175 305.4654 305.5131 305.5609 \n",
       "      57       58       59       60       61       62 \n",
       "305.6086 305.6565 305.7042 305.7520 305.7997 305.8476 "
      ]
     },
     "metadata": {},
     "output_type": "display_data"
    }
   ],
   "source": [
    "fitted.values(fit_maxTemp)"
   ]
  },
  {
   "cell_type": "markdown",
   "metadata": {},
   "source": [
    "Die Abweichungen (=Residuen) der tatsächlichen Temperaturwerte von den über das jeweilige Jahr berechneten kann man sich über \"residuals\" und Angabe der Regressionsfunktion (\"fit_maxTemp\") ausgeben lassen:"
   ]
  },
  {
   "cell_type": "code",
   "execution_count": 451,
   "metadata": {},
   "outputs": [
    {
     "data": {
      "text/html": [
       "<dl class=dl-horizontal>\n",
       "\t<dt>1</dt>\n",
       "\t\t<dd>-0.483061256335511</dd>\n",
       "\t<dt>2</dt>\n",
       "\t\t<dd>2.36906318649073</dd>\n",
       "\t<dt>3</dt>\n",
       "\t\t<dd>3.32131843684995</dd>\n",
       "\t<dt>4</dt>\n",
       "\t\t<dd>0.373573687209132</dd>\n",
       "\t<dt>5</dt>\n",
       "\t\t<dd>4.22582893756839</dd>\n",
       "\t<dt>6</dt>\n",
       "\t\t<dd>0.877953380394331</dd>\n",
       "\t<dt>7</dt>\n",
       "\t\t<dd>-1.76979136924647</dd>\n",
       "\t<dt>8</dt>\n",
       "\t\t<dd>0.182463881112748</dd>\n",
       "\t<dt>9</dt>\n",
       "\t\t<dd>-1.26528086852801</dd>\n",
       "\t<dt>10</dt>\n",
       "\t\t<dd>2.98684357429796</dd>\n",
       "\t<dt>11</dt>\n",
       "\t\t<dd>-0.960901175342856</dd>\n",
       "\t<dt>12</dt>\n",
       "\t\t<dd>0.391354075016398</dd>\n",
       "\t<dt>13</dt>\n",
       "\t\t<dd>-1.05639067462442</dd>\n",
       "\t<dt>14</dt>\n",
       "\t\t<dd>-0.104266231798459</dd>\n",
       "\t<dt>15</dt>\n",
       "\t\t<dd>0.747989018560794</dd>\n",
       "\t<dt>16</dt>\n",
       "\t\t<dd>0.700244268920014</dd>\n",
       "\t<dt>17</dt>\n",
       "\t\t<dd>-1.04750048072081</dd>\n",
       "\t<dt>18</dt>\n",
       "\t\t<dd>0.604623962105191</dd>\n",
       "\t<dt>19</dt>\n",
       "\t\t<dd>-2.34312078753562</dd>\n",
       "\t<dt>20</dt>\n",
       "\t\t<dd>-0.390865537176404</dd>\n",
       "\t<dt>21</dt>\n",
       "\t\t<dd>-1.2386102868172</dd>\n",
       "\t<dt>22</dt>\n",
       "\t\t<dd>0.113514156008795</dd>\n",
       "\t<dt>23</dt>\n",
       "\t\t<dd>-2.33423059363202</dd>\n",
       "\t<dt>24</dt>\n",
       "\t\t<dd>0.318024656727246</dd>\n",
       "\t<dt>25</dt>\n",
       "\t\t<dd>0.270279907086465</dd>\n",
       "\t<dt>26</dt>\n",
       "\t\t<dd>-2.27759565008758</dd>\n",
       "\t<dt>27</dt>\n",
       "\t\t<dd>-1.5253403997284</dd>\n",
       "\t<dt>28</dt>\n",
       "\t\t<dd>-3.17308514936915</dd>\n",
       "\t<dt>29</dt>\n",
       "\t\t<dd>-0.0208298990099417</dd>\n",
       "\t<dt>30</dt>\n",
       "\t\t<dd>-0.568705456183985</dd>\n",
       "\t<dt>31</dt>\n",
       "\t\t<dd>-3.41645020582478</dd>\n",
       "\t<dt>32</dt>\n",
       "\t\t<dd>-1.96419495546556</dd>\n",
       "\t<dt>33</dt>\n",
       "\t\t<dd>0.0880602948936855</dd>\n",
       "\t<dt>34</dt>\n",
       "\t\t<dd>-1.45981526228036</dd>\n",
       "\t<dt>35</dt>\n",
       "\t\t<dd>-0.60756001192116</dd>\n",
       "\t<dt>36</dt>\n",
       "\t\t<dd>2.34469523843806</dd>\n",
       "\t<dt>37</dt>\n",
       "\t\t<dd>2.29695048879728</dd>\n",
       "\t<dt>38</dt>\n",
       "\t\t<dd>-1.15092506837674</dd>\n",
       "\t<dt>39</dt>\n",
       "\t\t<dd>0.401330181982444</dd>\n",
       "\t<dt>40</dt>\n",
       "\t\t<dd>-0.146414567658336</dd>\n",
       "\t<dt>41</dt>\n",
       "\t\t<dd>0.305840682700883</dd>\n",
       "\t<dt>42</dt>\n",
       "\t\t<dd>-1.74203487447316</dd>\n",
       "\t<dt>43</dt>\n",
       "\t\t<dd>-0.78977962411394</dd>\n",
       "\t<dt>44</dt>\n",
       "\t\t<dd>-0.137524373754675</dd>\n",
       "\t<dt>45</dt>\n",
       "\t\t<dd>1.31473087660454</dd>\n",
       "\t<dt>46</dt>\n",
       "\t\t<dd>0.766855319430502</dd>\n",
       "\t<dt>47</dt>\n",
       "\t\t<dd>1.31911056978969</dd>\n",
       "\t<dt>48</dt>\n",
       "\t\t<dd>0.471365820148895</dd>\n",
       "\t<dt>49</dt>\n",
       "\t\t<dd>-0.176378929491851</dd>\n",
       "\t<dt>50</dt>\n",
       "\t\t<dd>-3.32425448666592</dd>\n",
       "\t<dt>51</dt>\n",
       "\t\t<dd>1.6280007636933</dd>\n",
       "\t<dt>52</dt>\n",
       "\t\t<dd>0.880256014052534</dd>\n",
       "\t<dt>53</dt>\n",
       "\t\t<dd>0.532511264411742</dd>\n",
       "\t<dt>54</dt>\n",
       "\t\t<dd>0.684635707237688</dd>\n",
       "\t<dt>55</dt>\n",
       "\t\t<dd>2.43689095759692</dd>\n",
       "\t<dt>56</dt>\n",
       "\t\t<dd>2.08914620795613</dd>\n",
       "\t<dt>57</dt>\n",
       "\t\t<dd>-1.75859854168461</dd>\n",
       "\t<dt>58</dt>\n",
       "\t\t<dd>0.493525901141304</dd>\n",
       "\t<dt>59</dt>\n",
       "\t\t<dd>0.445781151500523</dd>\n",
       "\t<dt>60</dt>\n",
       "\t\t<dd>1.19803640185975</dd>\n",
       "\t<dt>61</dt>\n",
       "\t\t<dd>-0.849708347781026</dd>\n",
       "\t<dt>62</dt>\n",
       "\t\t<dd>0.902416095044942</dd>\n",
       "</dl>\n"
      ],
      "text/latex": [
       "\\begin{description*}\n",
       "\\item[1] -0.483061256335511\n",
       "\\item[2] 2.36906318649073\n",
       "\\item[3] 3.32131843684995\n",
       "\\item[4] 0.373573687209132\n",
       "\\item[5] 4.22582893756839\n",
       "\\item[6] 0.877953380394331\n",
       "\\item[7] -1.76979136924647\n",
       "\\item[8] 0.182463881112748\n",
       "\\item[9] -1.26528086852801\n",
       "\\item[10] 2.98684357429796\n",
       "\\item[11] -0.960901175342856\n",
       "\\item[12] 0.391354075016398\n",
       "\\item[13] -1.05639067462442\n",
       "\\item[14] -0.104266231798459\n",
       "\\item[15] 0.747989018560794\n",
       "\\item[16] 0.700244268920014\n",
       "\\item[17] -1.04750048072081\n",
       "\\item[18] 0.604623962105191\n",
       "\\item[19] -2.34312078753562\n",
       "\\item[20] -0.390865537176404\n",
       "\\item[21] -1.2386102868172\n",
       "\\item[22] 0.113514156008795\n",
       "\\item[23] -2.33423059363202\n",
       "\\item[24] 0.318024656727246\n",
       "\\item[25] 0.270279907086465\n",
       "\\item[26] -2.27759565008758\n",
       "\\item[27] -1.5253403997284\n",
       "\\item[28] -3.17308514936915\n",
       "\\item[29] -0.0208298990099417\n",
       "\\item[30] -0.568705456183985\n",
       "\\item[31] -3.41645020582478\n",
       "\\item[32] -1.96419495546556\n",
       "\\item[33] 0.0880602948936855\n",
       "\\item[34] -1.45981526228036\n",
       "\\item[35] -0.60756001192116\n",
       "\\item[36] 2.34469523843806\n",
       "\\item[37] 2.29695048879728\n",
       "\\item[38] -1.15092506837674\n",
       "\\item[39] 0.401330181982444\n",
       "\\item[40] -0.146414567658336\n",
       "\\item[41] 0.305840682700883\n",
       "\\item[42] -1.74203487447316\n",
       "\\item[43] -0.78977962411394\n",
       "\\item[44] -0.137524373754675\n",
       "\\item[45] 1.31473087660454\n",
       "\\item[46] 0.766855319430502\n",
       "\\item[47] 1.31911056978969\n",
       "\\item[48] 0.471365820148895\n",
       "\\item[49] -0.176378929491851\n",
       "\\item[50] -3.32425448666592\n",
       "\\item[51] 1.6280007636933\n",
       "\\item[52] 0.880256014052534\n",
       "\\item[53] 0.532511264411742\n",
       "\\item[54] 0.684635707237688\n",
       "\\item[55] 2.43689095759692\n",
       "\\item[56] 2.08914620795613\n",
       "\\item[57] -1.75859854168461\n",
       "\\item[58] 0.493525901141304\n",
       "\\item[59] 0.445781151500523\n",
       "\\item[60] 1.19803640185975\n",
       "\\item[61] -0.849708347781026\n",
       "\\item[62] 0.902416095044942\n",
       "\\end{description*}\n"
      ],
      "text/markdown": [
       "1\n",
       ":   -0.4830612563355112\n",
       ":   2.369063186490733\n",
       ":   3.321318436849954\n",
       ":   0.3735736872091325\n",
       ":   4.225828937568396\n",
       ":   0.8779533803943317\n",
       ":   -1.769791369246478\n",
       ":   0.1824638811127489\n",
       ":   -1.2652808685280110\n",
       ":   2.9868435742979611\n",
       ":   -0.96090117534285612\n",
       ":   0.39135407501639813\n",
       ":   -1.0563906746244214\n",
       ":   -0.10426623179845915\n",
       ":   0.74798901856079416\n",
       ":   0.70024426892001417\n",
       ":   -1.0475004807208118\n",
       ":   0.60462396210519119\n",
       ":   -2.3431207875356220\n",
       ":   -0.39086553717640421\n",
       ":   -1.238610286817222\n",
       ":   0.11351415600879523\n",
       ":   -2.3342305936320224\n",
       ":   0.31802465672724625\n",
       ":   0.27027990708646526\n",
       ":   -2.2775956500875827\n",
       ":   -1.525340399728428\n",
       ":   -3.1730851493691529\n",
       ":   -0.020829899009941730\n",
       ":   -0.56870545618398531\n",
       ":   -3.4164502058247832\n",
       ":   -1.9641949554655633\n",
       ":   0.088060294893685534\n",
       ":   -1.4598152622803635\n",
       ":   -0.6075600119211636\n",
       ":   2.3446952384380637\n",
       ":   2.2969504887972838\n",
       ":   -1.1509250683767439\n",
       ":   0.40133018198244440\n",
       ":   -0.14641456765833641\n",
       ":   0.30584068270088342\n",
       ":   -1.7420348744731643\n",
       ":   -0.7897796241139444\n",
       ":   -0.13752437375467545\n",
       ":   1.3147308766045446\n",
       ":   0.76685531943050247\n",
       ":   1.3191105697896948\n",
       ":   0.47136582014889549\n",
       ":   -0.17637892949185150\n",
       ":   -3.3242544866659251\n",
       ":   1.628000763693352\n",
       ":   0.88025601405253453\n",
       ":   0.53251126441174254\n",
       ":   0.68463570723768855\n",
       ":   2.4368909575969256\n",
       ":   2.0891462079561357\n",
       ":   -1.7585985416846158\n",
       ":   0.49352590114130459\n",
       ":   0.44578115150052360\n",
       ":   1.1980364018597561\n",
       ":   -0.84970834778102662\n",
       ":   0.902416095044942\n",
       "\n"
      ],
      "text/plain": [
       "          1           2           3           4           5           6 \n",
       "-0.48306126  2.36906319  3.32131844  0.37357369  4.22582894  0.87795338 \n",
       "          7           8           9          10          11          12 \n",
       "-1.76979137  0.18246388 -1.26528087  2.98684357 -0.96090118  0.39135408 \n",
       "         13          14          15          16          17          18 \n",
       "-1.05639067 -0.10426623  0.74798902  0.70024427 -1.04750048  0.60462396 \n",
       "         19          20          21          22          23          24 \n",
       "-2.34312079 -0.39086554 -1.23861029  0.11351416 -2.33423059  0.31802466 \n",
       "         25          26          27          28          29          30 \n",
       " 0.27027991 -2.27759565 -1.52534040 -3.17308515 -0.02082990 -0.56870546 \n",
       "         31          32          33          34          35          36 \n",
       "-3.41645021 -1.96419496  0.08806029 -1.45981526 -0.60756001  2.34469524 \n",
       "         37          38          39          40          41          42 \n",
       " 2.29695049 -1.15092507  0.40133018 -0.14641457  0.30584068 -1.74203487 \n",
       "         43          44          45          46          47          48 \n",
       "-0.78977962 -0.13752437  1.31473088  0.76685532  1.31911057  0.47136582 \n",
       "         49          50          51          52          53          54 \n",
       "-0.17637893 -3.32425449  1.62800076  0.88025601  0.53251126  0.68463571 \n",
       "         55          56          57          58          59          60 \n",
       " 2.43689096  2.08914621 -1.75859854  0.49352590  0.44578115  1.19803640 \n",
       "         61          62 \n",
       "-0.84970835  0.90241610 "
      ]
     },
     "metadata": {},
     "output_type": "display_data"
    }
   ],
   "source": [
    "residuals(fit_maxTemp)"
   ]
  },
  {
   "cell_type": "markdown",
   "metadata": {},
   "source": [
    "Wir fügen unserem Datensatz nun eine neue Spalte hinzu, die wir maxTemp_calculated benennen (\"maxTemp_year$maxTemp_calculated\") und weisen dieser Spalte die über die Regression berechneten Werte zu:"
   ]
  },
  {
   "cell_type": "code",
   "execution_count": 452,
   "metadata": {},
   "outputs": [],
   "source": [
    "maxTemp_year$maxTemp_calculated = fitted.values(fit_maxTemp)"
   ]
  },
  {
   "cell_type": "markdown",
   "metadata": {},
   "source": [
    "Durch Anzeigen des Headers sehen wir nach was hier passiert ist:"
   ]
  },
  {
   "cell_type": "code",
   "execution_count": 453,
   "metadata": {},
   "outputs": [
    {
     "data": {
      "text/html": [
       "<table>\n",
       "<thead><tr><th scope=col>year</th><th scope=col>maxTemp</th><th scope=col>maxTemp_calculated</th></tr></thead>\n",
       "<tbody>\n",
       "\t<tr><td>1948-01-01</td><td>302.45    </td><td>302.9331  </td></tr>\n",
       "\t<tr><td>1949-01-01</td><td>305.35    </td><td>302.9809  </td></tr>\n",
       "\t<tr><td>1950-01-01</td><td>306.35    </td><td>303.0287  </td></tr>\n",
       "\t<tr><td>1951-01-01</td><td>303.45    </td><td>303.0764  </td></tr>\n",
       "\t<tr><td>1952-01-01</td><td>307.35    </td><td>303.1242  </td></tr>\n",
       "\t<tr><td>1953-01-01</td><td>304.05    </td><td>303.1720  </td></tr>\n",
       "\t<tr><td>1954-01-01</td><td>301.45    </td><td>303.2198  </td></tr>\n",
       "\t<tr><td>1955-01-01</td><td>303.45    </td><td>303.2675  </td></tr>\n",
       "\t<tr><td>1956-01-01</td><td>302.05    </td><td>303.3153  </td></tr>\n",
       "\t<tr><td>1957-01-01</td><td>306.35    </td><td>303.3632  </td></tr>\n",
       "</tbody>\n",
       "</table>\n"
      ],
      "text/latex": [
       "\\begin{tabular}{r|lll}\n",
       " year & maxTemp & maxTemp\\_calculated\\\\\n",
       "\\hline\n",
       "\t 1948-01-01 & 302.45     & 302.9331  \\\\\n",
       "\t 1949-01-01 & 305.35     & 302.9809  \\\\\n",
       "\t 1950-01-01 & 306.35     & 303.0287  \\\\\n",
       "\t 1951-01-01 & 303.45     & 303.0764  \\\\\n",
       "\t 1952-01-01 & 307.35     & 303.1242  \\\\\n",
       "\t 1953-01-01 & 304.05     & 303.1720  \\\\\n",
       "\t 1954-01-01 & 301.45     & 303.2198  \\\\\n",
       "\t 1955-01-01 & 303.45     & 303.2675  \\\\\n",
       "\t 1956-01-01 & 302.05     & 303.3153  \\\\\n",
       "\t 1957-01-01 & 306.35     & 303.3632  \\\\\n",
       "\\end{tabular}\n"
      ],
      "text/markdown": [
       "\n",
       "year | maxTemp | maxTemp_calculated | \n",
       "|---|---|---|---|---|---|---|---|---|---|\n",
       "| 1948-01-01 | 302.45     | 302.9331   | \n",
       "| 1949-01-01 | 305.35     | 302.9809   | \n",
       "| 1950-01-01 | 306.35     | 303.0287   | \n",
       "| 1951-01-01 | 303.45     | 303.0764   | \n",
       "| 1952-01-01 | 307.35     | 303.1242   | \n",
       "| 1953-01-01 | 304.05     | 303.1720   | \n",
       "| 1954-01-01 | 301.45     | 303.2198   | \n",
       "| 1955-01-01 | 303.45     | 303.2675   | \n",
       "| 1956-01-01 | 302.05     | 303.3153   | \n",
       "| 1957-01-01 | 306.35     | 303.3632   | \n",
       "\n",
       "\n"
      ],
      "text/plain": [
       "   year       maxTemp maxTemp_calculated\n",
       "1  1948-01-01 302.45  302.9331          \n",
       "2  1949-01-01 305.35  302.9809          \n",
       "3  1950-01-01 306.35  303.0287          \n",
       "4  1951-01-01 303.45  303.0764          \n",
       "5  1952-01-01 307.35  303.1242          \n",
       "6  1953-01-01 304.05  303.1720          \n",
       "7  1954-01-01 301.45  303.2198          \n",
       "8  1955-01-01 303.45  303.2675          \n",
       "9  1956-01-01 302.05  303.3153          \n",
       "10 1957-01-01 306.35  303.3632          "
      ]
     },
     "metadata": {},
     "output_type": "display_data"
    }
   ],
   "source": [
    "head(maxTemp_year, n=10)"
   ]
  },
  {
   "cell_type": "code",
   "execution_count": 454,
   "metadata": {},
   "outputs": [
    {
     "data": {},
     "metadata": {},
     "output_type": "display_data"
    },
    {
     "data": {
      "image/png": "[encoded data removed]",
      "text/plain": [
       "plot without title"
      ]
     },
     "metadata": {},
     "output_type": "display_data"
    }
   ],
   "source": [
    "ggplot(maxTemp_year, aes(year)) + geom_line(aes(y = maxTemp)) + \n",
    "geom_line(aes(y = maxTemp_calculated)) + xlab(\"Jahr\") + ylab(\"Temperaturmaximum (K)\")"
   ]
  },
  {
   "cell_type": "markdown",
   "metadata": {},
   "source": [
    "Was können wir aus unserer Trendanalyse folgern? Nun die Regressionslinie zeigt eine Zunahme der jährlichen Maximaltemperatur über den gesamten Zeitraum. Die Zusammenfassung der Regressionsberechnungen hat uns geliefert, dass die Steigung unserer Regressionsgeraden mit *** mit einer Wahrscheinlichkeit von > 0.999 (entspricht 99.9%) und einer Irtumswahrscheinlichkeit von < 0.001 (entspricht 0.01%) verschieden von \"0\" ist - es liegt also ein hochsignifikanter Trend vor."
   ]
  }
 ],
 "metadata": {
  "kernelspec": {
   "display_name": "R",
   "language": "R",
   "name": "ir"
  },
  "language_info": {
   "codemirror_mode": "r",
   "file_extension": ".r",
   "mimetype": "text/x-r-source",
   "name": "R",
   "pygments_lexer": "r",
   "version": "3.4.2"
  }
 },
 "nbformat": 4,
 "nbformat_minor": 2
}
